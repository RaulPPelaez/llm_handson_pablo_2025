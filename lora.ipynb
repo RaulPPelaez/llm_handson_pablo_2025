{
 "cells": [
  {
   "cell_type": "markdown",
   "id": "f1e563e6",
   "metadata": {},
   "source": [
    "# Finetuning"
   ]
  },
  {
   "cell_type": "markdown",
   "id": "475ae01c",
   "metadata": {},
   "source": [
    "# (Q)LoRA finetuning  \n",
    "\n",
    "### Training <0.1% of the parameters  \n",
    "\n",
    "<img src=\"https://huggingface.co/datasets/huggingface/documentation-images/resolve/main/peft/lora_diagram.png\" alt=\"drawing\" width=\"600\"/>\n",
    "\n"
   ]
  },
  {
   "cell_type": "markdown",
   "id": "d7f57aea",
   "metadata": {},
   "source": [
    "LoRA injects low rank linear layers (BA) into every linear layer in the architecture. QLoRA is just the addition of quantization to a LoRA model.\n",
    "\n",
    "Quantization allows to finetune a 7B model on a 4090 by reducing 4x the memory requirements.\n",
    "\n",
    "Quant reduces model performance, but LoRA is able to mitigate this while also finetuning the model on a downstream task.\n",
    "\n"
   ]
  },
  {
   "cell_type": "markdown",
   "id": "31f6a741",
   "metadata": {},
   "source": [
    "## Load the base model\n",
    "\n",
    "An already finetuned model can be finetuned further, but lets stick to a so-called pretrained model.\n"
   ]
  },
  {
   "cell_type": "code",
   "execution_count": 1,
   "id": "68e8df2d",
   "metadata": {},
   "outputs": [],
   "source": [
    "from transformers import AutoModelForCausalLM, AutoTokenizer\n",
    "import torch\n",
    "model_name = \"google/gemma-3-1b-it\"\n",
    "tokenizer = AutoTokenizer.from_pretrained(model_name)\n",
    "model = AutoModelForCausalLM.from_pretrained(\n",
    "    model_name, device_map=0, torch_dtype=torch.bfloat16, attn_implementation='eager'\n",
    ")\n"
   ]
  },
  {
   "cell_type": "code",
   "execution_count": 2,
   "id": "0dabe067",
   "metadata": {},
   "outputs": [
    {
     "name": "stdout",
     "output_type": "stream",
     "text": [
      "<bos><start_of_turn>user\n",
      "¿Cuál es la capital de Australia?<end_of_turn>\n",
      "<start_of_turn>model\n",
      "La capital de Australia es Canberra.\n",
      "<end_of_turn>\n"
     ]
    }
   ],
   "source": [
    "# Inference example\n",
    "\n",
    "messages = [\n",
    "    {\"role\": \"user\", \"content\": \"¿Cuál es la capital de Australia?\"},\n",
    "]\n",
    "\n",
    "input_ids = tokenizer.apply_chat_template(\n",
    "    messages,\n",
    "    add_generation_prompt=True,\n",
    "    return_tensors=\"pt\",\n",
    ").to(model.device)\n",
    "\n",
    "output_ids = model.generate(input_ids, max_new_tokens=512)\n",
    "response = tokenizer.batch_decode(output_ids)[0]\n",
    "print(response)"
   ]
  },
  {
   "cell_type": "markdown",
   "id": "534aae5c",
   "metadata": {},
   "source": [
    "# Prepare a dataset\n",
    "Our example finetuning will perform a simple task using SMILES.\n",
    "For a given SMILES we will instruct the model to produce the same SMILE but reversed.\n",
    "\n",
    "I have prepared a dataset with some smiles and their reverses. So from `smile` I want to get `smile[::-1]`.\n",
    "\n",
    "Although this would be more fitting to a sequence to sequence model, we will encode this as a CausalLM task and finetune on it using next token prediction. The 1B model should be powerful enough to handle it anyhow.\n"
   ]
  },
  {
   "cell_type": "code",
   "execution_count": 3,
   "id": "e1c39198",
   "metadata": {},
   "outputs": [
    {
     "data": {
      "text/html": [
       "<div>\n",
       "<style scoped>\n",
       "    .dataframe tbody tr th:only-of-type {\n",
       "        vertical-align: middle;\n",
       "    }\n",
       "\n",
       "    .dataframe tbody tr th {\n",
       "        vertical-align: top;\n",
       "    }\n",
       "\n",
       "    .dataframe thead th {\n",
       "        text-align: right;\n",
       "    }\n",
       "</style>\n",
       "<table border=\"1\" class=\"dataframe\">\n",
       "  <thead>\n",
       "    <tr style=\"text-align: right;\">\n",
       "      <th></th>\n",
       "      <th>smiles</th>\n",
       "      <th>rev_smiles</th>\n",
       "    </tr>\n",
       "  </thead>\n",
       "  <tbody>\n",
       "    <tr>\n",
       "      <th>0</th>\n",
       "      <td>C=CC(=O)N1C[C@@H]2CCOc3c(Cl)c(-c4c(O)cccc4F)c(...</td>\n",
       "      <td>C1]H@C[C2N)43c(cncn4c)F(c)F4cccc)O(c4c-(c)lC(c...</td>\n",
       "    </tr>\n",
       "    <tr>\n",
       "      <th>1</th>\n",
       "      <td>COc1ccc2c(c1)OCc1c-2oc2ccccc2c1=O</td>\n",
       "      <td>O=1c2ccccc2co2-c1cCO)1c(c2ccc1cOC</td>\n",
       "    </tr>\n",
       "    <tr>\n",
       "      <th>2</th>\n",
       "      <td>COc1ccc2c(c1)NC1=C(C(=O)OC1)C2c1cc(OC)c(OC)c(O...</td>\n",
       "      <td>1c)CO(c)CO(c)CO(cc1c2C)1CO)O=(C(C=1CN)1c(c2ccc...</td>\n",
       "    </tr>\n",
       "    <tr>\n",
       "      <th>3</th>\n",
       "      <td>CC[C@@]1(O)C[C@H](OC2CC(N(C)C)C(OC3CC(O)C(OC4C...</td>\n",
       "      <td>CO)O=(C1]H@C[)O=3C2cccc)O(c2c)O=(C)O2c(c3cc(c2...</td>\n",
       "    </tr>\n",
       "    <tr>\n",
       "      <th>4</th>\n",
       "      <td>COc1ccc2c(c1)OC(N)=C(C#N)C2c1cc(OC)c(OC)c(OC)c1</td>\n",
       "      <td>1c)CO(c)CO(c)CO(cc1c2C)N#C(C=)N(CO)1c(c2ccc1cOC</td>\n",
       "    </tr>\n",
       "  </tbody>\n",
       "</table>\n",
       "</div>"
      ],
      "text/plain": [
       "                                              smiles  \\\n",
       "0  C=CC(=O)N1C[C@@H]2CCOc3c(Cl)c(-c4c(O)cccc4F)c(...   \n",
       "1                  COc1ccc2c(c1)OCc1c-2oc2ccccc2c1=O   \n",
       "2  COc1ccc2c(c1)NC1=C(C(=O)OC1)C2c1cc(OC)c(OC)c(O...   \n",
       "3  CC[C@@]1(O)C[C@H](OC2CC(N(C)C)C(OC3CC(O)C(OC4C...   \n",
       "4    COc1ccc2c(c1)OC(N)=C(C#N)C2c1cc(OC)c(OC)c(OC)c1   \n",
       "\n",
       "                                          rev_smiles  \n",
       "0  C1]H@C[C2N)43c(cncn4c)F(c)F4cccc)O(c4c-(c)lC(c...  \n",
       "1                  O=1c2ccccc2co2-c1cCO)1c(c2ccc1cOC  \n",
       "2  1c)CO(c)CO(c)CO(cc1c2C)1CO)O=(C(C=1CN)1c(c2ccc...  \n",
       "3  CO)O=(C1]H@C[)O=3C2cccc)O(c2c)O=(C)O2c(c3cc(c2...  \n",
       "4    1c)CO(c)CO(c)CO(cc1c2C)N#C(C=)N(CO)1c(c2ccc1cOC  "
      ]
     },
     "execution_count": 3,
     "metadata": {},
     "output_type": "execute_result"
    }
   ],
   "source": [
    "import datasets\n",
    "import pandas as pd\n",
    "import numpy as np\n",
    "dsp = pd.read_csv(\"small_smiles.csv\")\n",
    "dsp.head()"
   ]
  },
  {
   "cell_type": "markdown",
   "id": "a60ae38f",
   "metadata": {},
   "source": [
    "### We will create a dataset with labels so that for each `[SMILE]` and `[REV_SMILE]` pair we get:  \n",
    "`[SMILE]<reversed>[REV_SMILE]<end_of_smile>`  \n",
    "The tokenizer will prepend each sample with the special token `tokenizer.bos_token` (normally `<s>`) and will place `tokenizer.eos_token` at the end. However, adding our own special separator will help the model.\n",
    "\n",
    "#### I find that 3K examples are enough for the model to understand the task"
   ]
  },
  {
   "cell_type": "code",
   "execution_count": 4,
   "id": "62db072a",
   "metadata": {},
   "outputs": [],
   "source": [
    "subset = 3000\n",
    "smile_separator = \"<reversed>\"\n",
    "smile_end = \"<end_of_smile>\"\n",
    "smiles = np.array([s+smile_separator+r+smile_end for s,r in zip(dsp[\"smiles\"][:subset], dsp[\"rev_smiles\"][:subset])])\n"
   ]
  },
  {
   "cell_type": "markdown",
   "id": "f807661d",
   "metadata": {},
   "source": [
    "The tokenizer of a model intended for conversation is not really fit for SMILES, so they will tend to be encoded as a really long series of tokens."
   ]
  },
  {
   "cell_type": "code",
   "execution_count": 5,
   "id": "5df0e3d4",
   "metadata": {},
   "outputs": [
    {
     "data": {
      "image/png": "[encoded data removed]",
      "text/plain": [
       "<Figure size 640x480 with 1 Axes>"
      ]
     },
     "metadata": {},
     "output_type": "display_data"
    }
   ],
   "source": [
    "import matplotlib.pyplot as plt\n",
    "token_counts = np.array([len(tokenizer.encode(text)) for text in smiles])\n",
    "plt.hist(token_counts, bins='auto', color='green', alpha=0.7)\n",
    "plt.title('Histogram of Token Counts')\n",
    "plt.xlabel('Number of Tokens')\n",
    "plt.ylabel('Frequency')\n",
    "plt.show()"
   ]
  },
  {
   "cell_type": "markdown",
   "id": "cd4233b7",
   "metadata": {},
   "source": [
    "### Lets filter entries with a token count larger than 512 so we can increase the batch size"
   ]
  },
  {
   "cell_type": "code",
   "execution_count": 6,
   "id": "8ce4651a",
   "metadata": {},
   "outputs": [
    {
     "name": "stdout",
     "output_type": "stream",
     "text": [
      "Number of removed entries: 4\n"
     ]
    },
    {
     "data": {
      "text/html": [
       "<div>\n",
       "<style scoped>\n",
       "    .dataframe tbody tr th:only-of-type {\n",
       "        vertical-align: middle;\n",
       "    }\n",
       "\n",
       "    .dataframe tbody tr th {\n",
       "        vertical-align: top;\n",
       "    }\n",
       "\n",
       "    .dataframe thead th {\n",
       "        text-align: right;\n",
       "    }\n",
       "</style>\n",
       "<table border=\"1\" class=\"dataframe\">\n",
       "  <thead>\n",
       "    <tr style=\"text-align: right;\">\n",
       "      <th></th>\n",
       "      <th>labels</th>\n",
       "    </tr>\n",
       "  </thead>\n",
       "  <tbody>\n",
       "    <tr>\n",
       "      <th>0</th>\n",
       "      <td>C=CC(=O)N1C[C@@H]2CCOc3c(Cl)c(-c4c(O)cccc4F)c(F)c4ncnc(c34)N2C[C@H]1C&lt;reversed&gt;C1]H@C[C2N)43c(cn...</td>\n",
       "    </tr>\n",
       "    <tr>\n",
       "      <th>1</th>\n",
       "      <td>COc1ccc2c(c1)OCc1c-2oc2ccccc2c1=O&lt;reversed&gt;O=1c2ccccc2co2-c1cCO)1c(c2ccc1cOC&lt;end_of_smile&gt;</td>\n",
       "    </tr>\n",
       "    <tr>\n",
       "      <th>2</th>\n",
       "      <td>COc1ccc2c(c1)NC1=C(C(=O)OC1)C2c1cc(OC)c(OC)c(OC)c1&lt;reversed&gt;1c)CO(c)CO(c)CO(cc1c2C)1CO)O=(C(C=1C...</td>\n",
       "    </tr>\n",
       "    <tr>\n",
       "      <th>3</th>\n",
       "      <td>CC[C@@]1(O)C[C@H](OC2CC(N(C)C)C(OC3CC(O)C(OC4CCC(=O)C(C)O4)C(C)O3)C(C)O2)c2c(cc3c(c2O)C(=O)c2c(O...</td>\n",
       "    </tr>\n",
       "    <tr>\n",
       "      <th>4</th>\n",
       "      <td>COc1ccc2c(c1)OC(N)=C(C#N)C2c1cc(OC)c(OC)c(OC)c1&lt;reversed&gt;1c)CO(c)CO(c)CO(cc1c2C)N#C(C=)N(CO)1c(c...</td>\n",
       "    </tr>\n",
       "  </tbody>\n",
       "</table>\n",
       "</div>"
      ],
      "text/plain": [
       "                                                                                                labels\n",
       "0  C=CC(=O)N1C[C@@H]2CCOc3c(Cl)c(-c4c(O)cccc4F)c(F)c4ncnc(c34)N2C[C@H]1C<reversed>C1]H@C[C2N)43c(cn...\n",
       "1           COc1ccc2c(c1)OCc1c-2oc2ccccc2c1=O<reversed>O=1c2ccccc2co2-c1cCO)1c(c2ccc1cOC<end_of_smile>\n",
       "2  COc1ccc2c(c1)NC1=C(C(=O)OC1)C2c1cc(OC)c(OC)c(OC)c1<reversed>1c)CO(c)CO(c)CO(cc1c2C)1CO)O=(C(C=1C...\n",
       "3  CC[C@@]1(O)C[C@H](OC2CC(N(C)C)C(OC3CC(O)C(OC4CCC(=O)C(C)O4)C(C)O3)C(C)O2)c2c(cc3c(c2O)C(=O)c2c(O...\n",
       "4  COc1ccc2c(c1)OC(N)=C(C#N)C2c1cc(OC)c(OC)c(OC)c1<reversed>1c)CO(c)CO(c)CO(cc1c2C)N#C(C=)N(CO)1c(c..."
      ]
     },
     "metadata": {},
     "output_type": "display_data"
    }
   ],
   "source": [
    "filtered_smiles = smiles[token_counts < 512]\n",
    "print(f\"Number of removed entries: {(token_counts>=512).sum()}\")\n",
    "ds = pd.DataFrame.from_dict({\"labels\": filtered_smiles})\n",
    "with pd.option_context('display.max_colwidth', 100):\n",
    "   display(ds.head())\n",
    "ds = datasets.Dataset.from_pandas(ds)\n"
   ]
  },
  {
   "cell_type": "code",
   "execution_count": 7,
   "id": "d2430057",
   "metadata": {},
   "outputs": [
    {
     "data": {
      "text/plain": [
       "{'train': Dataset({\n",
       "     features: ['labels'],\n",
       "     num_rows: 2396\n",
       " }),\n",
       " 'validation': Dataset({\n",
       "     features: ['labels'],\n",
       "     num_rows: 300\n",
       " }),\n",
       " 'test': Dataset({\n",
       "     features: ['labels'],\n",
       "     num_rows: 300\n",
       " })}"
      ]
     },
     "execution_count": 7,
     "metadata": {},
     "output_type": "execute_result"
    }
   ],
   "source": [
    "train_test = ds.train_test_split(test_size=0.2)\n",
    "validation = train_test['test'].train_test_split(test_size=0.5)\n",
    "split_ds = {\n",
    "        'train': train_test['train'],\n",
    "        'validation': validation['train'],\n",
    "        'test': validation['test']\n",
    "    }\n",
    "split_ds\n"
   ]
  },
  {
   "cell_type": "markdown",
   "id": "7dbb1cb8",
   "metadata": {},
   "source": [
    "--------------------------------------\n",
    "# Adding a LoRA adapter\n"
   ]
  },
  {
   "cell_type": "code",
   "execution_count": 8,
   "id": "009d0f48",
   "metadata": {},
   "outputs": [
    {
     "name": "stderr",
     "output_type": "stream",
     "text": [
      "The 8-bit optimizer is not available on your device, only available on CUDA for now.\n",
      "huggingface/tokenizers: The current process just got forked, after parallelism has already been used. Disabling parallelism to avoid deadlocks...\n",
      "To disable this warning, you can either:\n",
      "\t- Avoid using `tokenizers` before the fork if possible\n",
      "\t- Explicitly set the environment variable TOKENIZERS_PARALLELISM=(true | false)\n"
     ]
    },
    {
     "name": "stdout",
     "output_type": "stream",
     "text": [
      "trainable params: 745,472 || all params: 1,000,631,424 || trainable%: 0.0745\n"
     ]
    },
    {
     "data": {
      "text/plain": [
       "None"
      ]
     },
     "metadata": {},
     "output_type": "display_data"
    }
   ],
   "source": [
    "import peft # Parameter Efficient Finetuning. Contains utilities for adding adapters to HF models\n",
    "lora_config = peft.LoraConfig(peft_type=peft.TaskType.CAUSAL_LM,\n",
    "                              inference_mode=False,\n",
    "                              r=8, # Rank\n",
    "                              lora_alpha=32,\n",
    "                              lora_dropout=0.1)\n",
    "model = peft.get_peft_model(model, lora_config)\n",
    "display(model.print_trainable_parameters())"
   ]
  },
  {
   "cell_type": "markdown",
   "id": "037fd697",
   "metadata": {},
   "source": [
    "### Inspecting the model reveals that LoRA has been hooked into some of the linear layers"
   ]
  },
  {
   "cell_type": "code",
   "execution_count": 9,
   "id": "af237e96",
   "metadata": {},
   "outputs": [
    {
     "name": "stdout",
     "output_type": "stream",
     "text": [
      "PeftModel(\n",
      "  (base_model): LoraModel(\n",
      "    (model): Gemma3ForCausalLM(\n",
      "      (model): Gemma3TextModel(\n",
      "        (embed_tokens): Gemma3TextScaledWordEmbedding(262144, 1152, padding_idx=0)\n",
      "        (layers): ModuleList(\n",
      "          (0-25): 26 x Gemma3DecoderLayer(\n",
      "            (self_attn): Gemma3Attention(\n",
      "              (q_proj): lora.Linear(\n",
      "                (base_layer): Linear(in_features=1152, out_features=1024, bias=False)\n",
      "                (lora_dropout): ModuleDict(\n",
      "                  (default): Dropout(p=0.1, inplace=False)\n",
      "                )\n",
      "                (lora_A): ModuleDict(\n",
      "                  (default): Linear(in_features=1152, out_features=8, bias=False)\n",
      "                )\n",
      "                (lora_B): ModuleDict(\n",
      "                  (default): Linear(in_features=8, out_features=1024, bias=False)\n",
      "                )\n",
      "                (lora_embedding_A): ParameterDict()\n",
      "                (lora_embedding_B): ParameterDict()\n",
      "                (lora_magnitude_vector): ModuleDict()\n",
      "              )\n",
      "              (k_proj): Linear(in_features=1152, out_features=256, bias=False)\n",
      "              (v_proj): lora.Linear(\n",
      "                (base_layer): Linear(in_features=1152, out_features=256, bias=False)\n",
      "                (lora_dropout): ModuleDict(\n",
      "                  (default): Dropout(p=0.1, inplace=False)\n",
      "                )\n",
      "                (lora_A): ModuleDict(\n",
      "                  (default): Linear(in_features=1152, out_features=8, bias=False)\n",
      "                )\n",
      "                (lora_B): ModuleDict(\n",
      "                  (default): Linear(in_features=8, out_features=256, bias=False)\n",
      "                )\n",
      "                (lora_embedding_A): ParameterDict()\n",
      "                (lora_embedding_B): ParameterDict()\n",
      "                (lora_magnitude_vector): ModuleDict()\n",
      "              )\n",
      "              (o_proj): Linear(in_features=1024, out_features=1152, bias=False)\n",
      "              (q_norm): Gemma3RMSNorm((256,), eps=1e-06)\n",
      "              (k_norm): Gemma3RMSNorm((256,), eps=1e-06)\n",
      "            )\n",
      "            (mlp): Gemma3MLP(\n",
      "              (gate_proj): Linear(in_features=1152, out_features=6912, bias=False)\n",
      "              (up_proj): Linear(in_features=1152, out_features=6912, bias=False)\n",
      "              (down_proj): Linear(in_features=6912, out_features=1152, bias=False)\n",
      "              (act_fn): PytorchGELUTanh()\n",
      "            )\n",
      "            (input_layernorm): Gemma3RMSNorm((1152,), eps=1e-06)\n",
      "            (post_attention_layernorm): Gemma3RMSNorm((1152,), eps=1e-06)\n",
      "            (pre_feedforward_layernorm): Gemma3RMSNorm((1152,), eps=1e-06)\n",
      "            (post_feedforward_layernorm): Gemma3RMSNorm((1152,), eps=1e-06)\n",
      "          )\n",
      "        )\n",
      "        (norm): Gemma3RMSNorm((1152,), eps=1e-06)\n",
      "        (rotary_emb): Gemma3RotaryEmbedding()\n",
      "        (rotary_emb_local): Gemma3RotaryEmbedding()\n",
      "      )\n",
      "      (lm_head): Linear(in_features=1152, out_features=262144, bias=False)\n",
      "    )\n",
      "  )\n",
      ")\n"
     ]
    }
   ],
   "source": [
    "print(model)"
   ]
  },
  {
   "cell_type": "code",
   "execution_count": null,
   "id": "ed07171a",
   "metadata": {},
   "outputs": [
    {
     "name": "stderr",
     "output_type": "stream",
     "text": [
      "huggingface/tokenizers: The current process just got forked, after parallelism has already been used. Disabling parallelism to avoid deadlocks...\n",
      "To disable this warning, you can either:\n",
      "\t- Avoid using `tokenizers` before the fork if possible\n",
      "\t- Explicitly set the environment variable TOKENIZERS_PARALLELISM=(true | false)\n"
     ]
    },
    {
     "data": {
      "application/vnd.jupyter.widget-view+json": {
       "model_id": "83ed75e36b3d478a9cd5eb08f08380eb",
       "version_major": 2,
       "version_minor": 0
      },
      "text/plain": [
       "Map:   0%|          | 0/2396 [00:00<?, ? examples/s]"
      ]
     },
     "metadata": {},
     "output_type": "display_data"
    },
    {
     "data": {
      "application/vnd.jupyter.widget-view+json": {
       "model_id": "b4db39b1c56d456abae2840ce0252c8f",
       "version_major": 2,
       "version_minor": 0
      },
      "text/plain": [
       "Truncating train dataset:   0%|          | 0/2396 [00:00<?, ? examples/s]"
      ]
     },
     "metadata": {},
     "output_type": "display_data"
    }
   ],
   "source": [
    "from transformers import TrainingArguments\n",
    "from trl import SFTTrainer\n",
    "# Available optimizers for MPS:\n",
    "available_optimizers = [\n",
    "    \"adamw_torch\"\n",
    "]\n",
    "\n",
    "training_args = TrainingArguments(\n",
    "    per_device_train_batch_size=2,\n",
    "    gradient_accumulation_steps=1,\n",
    "    optim=available_optimizers[0],\n",
    "    num_train_epochs=1,\n",
    "    logging_steps=100,\n",
    "    logging_dir=\"./logs\",\n",
    "    output_dir=\"./results\",\n",
    "    learning_rate=4e-3,\n",
    "    max_grad_norm=0.5,\n",
    "    max_steps=500,\n",
    "    remove_unused_columns=False\n",
    ")\n",
    "\n",
    "# keep tokenizer padding settings\n",
    "tokenizer.padding_side = 'right'\n",
    "tokenizer.pad_token = tokenizer.eos_token\n",
    "\n",
    "# Pre-tokenize the dataset and create labels for causal LM (labels = input_ids)\n",
    "def tokenize_fn(examples):\n",
    "    tokenized = tokenizer(\n",
    "        examples[\"labels\"],\n",
    "        truncation=True,\n",
    "        max_length=512,\n",
    "        padding=\"max_length\",\n",
    "    )\n",
    "    tokenized[\"labels\"] = [ids.copy() for ids in tokenized[\"input_ids\"]]\n",
    "    return tokenized\n",
    "\n",
    "tokenized_train = split_ds[\"train\"].map(tokenize_fn, batched=True, remove_columns=[\"labels\"])\n",
    "tokenized_train.set_format(type=\"torch\", columns=[\"input_ids\", \"attention_mask\", \"labels\"])\n",
    "\n",
    "trainer = SFTTrainer(\n",
    "    model=model,\n",
    "    args=training_args,\n",
    "    train_dataset=tokenized_train,\n",
    ")"
   ]
  },
  {
   "cell_type": "code",
   "execution_count": 11,
   "id": "1cefc24e",
   "metadata": {},
   "outputs": [
    {
     "name": "stderr",
     "output_type": "stream",
     "text": [
      "The tokenizer has new PAD/BOS/EOS tokens that differ from the model config and generation config. The model config and generation config were aligned accordingly, being updated with the tokenizer's values. Updated tokens: {'eos_token_id': 1}.\n",
      "/Users/raul/miniforge3/envs/ollama/lib/python3.12/site-packages/torch/utils/data/dataloader.py:684: UserWarning: 'pin_memory' argument is set as true but not supported on MPS now, then device pinned memory won't be used.\n",
      "  warnings.warn(warn_msg)\n"
     ]
    },
    {
     "data": {
      "text/html": [
       "\n",
       "    <div>\n",
       "      \n",
       "      <progress value='500' max='500' style='width:300px; height:20px; vertical-align: middle;'></progress>\n",
       "      [500/500 11:15, Epoch 0/1]\n",
       "    </div>\n",
       "    <table border=\"1\" class=\"dataframe\">\n",
       "  <thead>\n",
       " <tr style=\"text-align: left;\">\n",
       "      <th>Step</th>\n",
       "      <th>Training Loss</th>\n",
       "    </tr>\n",
       "  </thead>\n",
       "  <tbody>\n",
       "    <tr>\n",
       "      <td>100</td>\n",
       "      <td>0.590300</td>\n",
       "    </tr>\n",
       "    <tr>\n",
       "      <td>200</td>\n",
       "      <td>0.385500</td>\n",
       "    </tr>\n",
       "    <tr>\n",
       "      <td>300</td>\n",
       "      <td>0.372800</td>\n",
       "    </tr>\n",
       "    <tr>\n",
       "      <td>400</td>\n",
       "      <td>0.296200</td>\n",
       "    </tr>\n",
       "    <tr>\n",
       "      <td>500</td>\n",
       "      <td>0.283600</td>\n",
       "    </tr>\n",
       "  </tbody>\n",
       "</table><p>"
      ],
      "text/plain": [
       "<IPython.core.display.HTML object>"
      ]
     },
     "metadata": {},
     "output_type": "display_data"
    },
    {
     "data": {
      "text/plain": [
       "TrainOutput(global_step=500, training_loss=0.38568835067749024, metrics={'train_runtime': 678.4203, 'train_samples_per_second': 1.474, 'train_steps_per_second': 0.737, 'total_flos': 2146226798592000.0, 'train_loss': 0.38568835067749024})"
      ]
     },
     "execution_count": 11,
     "metadata": {},
     "output_type": "execute_result"
    }
   ],
   "source": [
    "trainer.train()"
   ]
  },
  {
   "cell_type": "markdown",
   "id": "7b8661d4",
   "metadata": {},
   "source": [
    "# Testing the model\n",
    "\n",
    "Lets try and see how the model behaves for a task by picking a SMILE and asking for its reverse."
   ]
  },
  {
   "cell_type": "code",
   "execution_count": 12,
   "id": "e0f8e670",
   "metadata": {},
   "outputs": [
    {
     "data": {
      "text/markdown": [
       "**SMILE:** `CC1(C)CC(=O)c2c(C(F)(F)F)nn(-c3ccc(C(N)=O)c(NC4CCC(OC(=O)CN)CC4)c3)c2C1`"
      ],
      "text/plain": [
       "<IPython.core.display.Markdown object>"
      ]
     },
     "metadata": {},
     "output_type": "display_data"
    },
    {
     "data": {
      "text/markdown": [
       "**Reverse:** `1C2c)3c)4CC)NC)O=(CO(CCC4CN(c)O=)N(C(ccc3c-(nn)F)F()F(C(c2c)O=(CC)C(1CC`"
      ],
      "text/plain": [
       "<IPython.core.display.Markdown object>"
      ]
     },
     "metadata": {},
     "output_type": "display_data"
    },
    {
     "data": {
      "text/markdown": [
       "**Model input:**`CC1(C)CC(=O)c2c(C(F)(F)F)nn(-c3ccc(C(N)=O)c(NC4CCC(OC(=O)CN)CC4)c3)c2C1<reversed>`"
      ],
      "text/plain": [
       "<IPython.core.display.Markdown object>"
      ]
     },
     "metadata": {},
     "output_type": "display_data"
    }
   ],
   "source": [
    "from IPython.display import display, Markdown\n",
    "i=1 # An arbitrary sample from the test set\n",
    "smile = [s.split(smile_end)[0] for s in split_ds[\"test\"][i][\"labels\"].split(smile_separator)] \n",
    "tokens = tokenizer(smile[0]+smile_separator, return_tensors=\"pt\").to(\"mps\")\n",
    "display(Markdown(f\"**SMILE:** `{smile[0]}`\"))\n",
    "display(Markdown(f\"**Reverse:** `{smile[1]}`\"))\n",
    "display(Markdown(f\"**Model input:**`{smile[0]+smile_separator}`\"))\n"
   ]
  },
  {
   "cell_type": "markdown",
   "id": "83b8c945",
   "metadata": {},
   "source": [
    "## First with the base model"
   ]
  },
  {
   "cell_type": "code",
   "execution_count": 13,
   "id": "ced2c06c",
   "metadata": {},
   "outputs": [
    {
     "data": {
      "text/markdown": [
       "---\n",
       "### **Generated**\n",
       "------"
      ],
      "text/plain": [
       "<IPython.core.display.Markdown object>"
      ]
     },
     "metadata": {},
     "output_type": "display_data"
    },
    {
     "data": {
      "text/markdown": [
       "```N1C**\n",
       "Okay, let's break down this SMILE (Structural Model Indicator Language) notation. It describes a molecule with a complex arrangement of atoms.  Here's a detailed explanation:\n",
       "\n",
       "**1.  CC1(C)CC(=O)c2c(C(F)(F)F)nn(-c```"
      ],
      "text/plain": [
       "<IPython.core.display.Markdown object>"
      ]
     },
     "metadata": {},
     "output_type": "display_data"
    },
    {
     "data": {
      "text/markdown": [
       "---\n",
       "### **Truth**\n",
       "------"
      ],
      "text/plain": [
       "<IPython.core.display.Markdown object>"
      ]
     },
     "metadata": {},
     "output_type": "display_data"
    },
    {
     "data": {
      "text/markdown": [
       "```1C2c)3c)4CC)NC)O=(CO(CCC4CN(c)O=)N(C(ccc3c-(nn)F)F()F(C(c2c)O=(CC)C(1CC```"
      ],
      "text/plain": [
       "<IPython.core.display.Markdown object>"
      ]
     },
     "metadata": {},
     "output_type": "display_data"
    }
   ],
   "source": [
    "with model.disable_adapter():\n",
    "   gen_tokens = model.generate(**tokens, max_new_tokens=len(smile[1]))[0]\n",
    "generated = tokenizer.decode(gen_tokens[tokens[\"input_ids\"].shape[1]:])\n",
    "display(Markdown(\"---\\n### **Generated**\\n------\"))\n",
    "display(Markdown(f\"```{generated.split(smile_end)[0]}```\"))\n",
    "display(Markdown(\"---\\n### **Truth**\\n------\"))\n",
    "display(Markdown(f\"```{smile[1]}```\"))"
   ]
  },
  {
   "cell_type": "markdown",
   "id": "6bbd9cd5",
   "metadata": {},
   "source": [
    "## Now with the finetuned one"
   ]
  },
  {
   "cell_type": "code",
   "execution_count": 14,
   "id": "e0f1efab",
   "metadata": {},
   "outputs": [
    {
     "data": {
      "text/markdown": [
       "### **Generated**\n",
       "------"
      ],
      "text/plain": [
       "<IPython.core.display.Markdown object>"
      ]
     },
     "metadata": {},
     "output_type": "display_data"
    },
    {
     "data": {
      "text/markdown": [
       "```12c)43c)O=(CN(c)2c)F)F(C=C)F)4OCO)F)F()F)F()F)F(CC(nc2c1NCC(c(c3c(cn)F(c)F(cc3cccc3cC)l```"
      ],
      "text/plain": [
       "<IPython.core.display.Markdown object>"
      ]
     },
     "metadata": {},
     "output_type": "display_data"
    },
    {
     "data": {
      "text/markdown": [
       "### **Truth**\n",
       "------"
      ],
      "text/plain": [
       "<IPython.core.display.Markdown object>"
      ]
     },
     "metadata": {},
     "output_type": "display_data"
    },
    {
     "data": {
      "text/markdown": [
       "```1C2c)3c)4CC)NC)O=(CO(CCC4CN(c)O=)N(C(ccc3c-(nn)F)F()F(C(c2c)O=(CC)C(1CC```"
      ],
      "text/plain": [
       "<IPython.core.display.Markdown object>"
      ]
     },
     "metadata": {},
     "output_type": "display_data"
    }
   ],
   "source": [
    "gen_tokens = model.generate(**tokens, max_new_tokens=len(smile[1]))[0]\n",
    "generated = tokenizer.decode(gen_tokens[tokens[\"input_ids\"].shape[1]:])\n",
    "display(Markdown(\"### **Generated**\\n------\"))\n",
    "display(Markdown(f\"```{generated.split(smile_end)[0]}```\"))\n",
    "display(Markdown(\"### **Truth**\\n------\"))\n",
    "display(Markdown(f\"```{smile[1]}```\"))\n"
   ]
  },
  {
   "cell_type": "markdown",
   "id": "8cadb6a6",
   "metadata": {},
   "source": [
    "# Saving the adapter"
   ]
  },
  {
   "cell_type": "code",
   "execution_count": 15,
   "id": "e7399c7c",
   "metadata": {},
   "outputs": [],
   "source": [
    "model.save_pretrained(\"adapters/gemma_smiles_rev\")"
   ]
  },
  {
   "cell_type": "markdown",
   "id": "7c15a24c",
   "metadata": {},
   "source": [
    "### The information required to take this 15GB model from nonsense to SMILE reverser is just 14MB! "
   ]
  },
  {
   "cell_type": "code",
   "execution_count": 16,
   "id": "8cc7d69b",
   "metadata": {},
   "outputs": [
    {
     "name": "stdout",
     "output_type": "stream",
     "text": [
      "total 6208\n",
      "  16 -rw-r--r--@ 1 raul  staff   5.1K Aug 14 19:31 README.md\n",
      "6184 -rw-r--r--@ 1 raul  staff   2.9M Aug 14 19:31 adapter_model.safetensors\n",
      "   8 -rw-r--r--@ 1 raul  staff   959B Aug 14 19:31 adapter_config.json\n"
     ]
    },
    {
     "name": "stderr",
     "output_type": "stream",
     "text": [
      "huggingface/tokenizers: The current process just got forked, after parallelism has already been used. Disabling parallelism to avoid deadlocks...\n",
      "To disable this warning, you can either:\n",
      "\t- Avoid using `tokenizers` before the fork if possible\n",
      "\t- Explicitly set the environment variable TOKENIZERS_PARALLELISM=(true | false)\n"
     ]
    }
   ],
   "source": [
    "!ls -lsrht adapters/gemma_smiles_rev"
   ]
  }
 ],
 "metadata": {
  "kernelspec": {
   "display_name": "ollama",
   "language": "python",
   "name": "python3"
  },
  "language_info": {
   "codemirror_mode": {
    "name": "ipython",
    "version": 3
   },
   "file_extension": ".py",
   "mimetype": "text/x-python",
   "name": "python",
   "nbconvert_exporter": "python",
   "pygments_lexer": "ipython3",
   "version": "3.12.11"
  }
 },
 "nbformat": 4,
 "nbformat_minor": 5
}
